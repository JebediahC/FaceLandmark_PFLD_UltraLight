{
 "cells": [
  {
   "cell_type": "code",
   "execution_count": 1,
   "id": "f766e3a7",
   "metadata": {
    "_cell_guid": "b1076dfc-b9ad-4769-8c92-a6c4dae69d19",
    "_uuid": "8f2839f25d086af736a60e9eeb907d3b93b6e0e5",
    "execution": {
     "iopub.execute_input": "2022-05-17T03:55:21.158874Z",
     "iopub.status.busy": "2022-05-17T03:55:21.158388Z",
     "iopub.status.idle": "2022-05-17T03:55:21.168564Z",
     "shell.execute_reply": "2022-05-17T03:55:21.167998Z"
    },
    "papermill": {
     "duration": 0.026586,
     "end_time": "2022-05-17T03:55:21.170305",
     "exception": false,
     "start_time": "2022-05-17T03:55:21.143719",
     "status": "completed"
    },
    "tags": []
   },
   "outputs": [],
   "source": [
    "\n",
    "import numpy as np \n"
   ]
  },
  {
   "cell_type": "code",
   "execution_count": 2,
   "id": "5a93e453",
   "metadata": {
    "execution": {
     "iopub.execute_input": "2022-05-17T03:55:21.196062Z",
     "iopub.status.busy": "2022-05-17T03:55:21.195640Z",
     "iopub.status.idle": "2022-05-17T03:55:24.098921Z",
     "shell.execute_reply": "2022-05-17T03:55:24.098059Z"
    },
    "papermill": {
     "duration": 2.918428,
     "end_time": "2022-05-17T03:55:24.101153",
     "exception": false,
     "start_time": "2022-05-17T03:55:21.182725",
     "status": "completed"
    },
    "tags": []
   },
   "outputs": [
    {
     "name": "stdout",
     "output_type": "stream",
     "text": [
      "Cloning into 'FaceLandmark_PFLD_UltraLight'...\r\n",
      "remote: Enumerating objects: 198, done.\u001b[K\r\n",
      "remote: Counting objects: 100% (24/24), done.\u001b[K\r\n",
      "remote: Compressing objects: 100% (24/24), done.\u001b[K\r\n",
      "remote: Total 198 (delta 13), reused 0 (delta 0), pack-reused 174\u001b[K\r\n",
      "Receiving objects: 100% (198/198), 19.18 MiB | 17.26 MiB/s, done.\r\n",
      "Resolving deltas: 100% (90/90), done.\r\n"
     ]
    }
   ],
   "source": [
    "!git clone "
   ]
  },
  {
   "cell_type": "code",
   "execution_count": 3,
   "id": "1d93d846",
   "metadata": {
    "execution": {
     "iopub.execute_input": "2022-05-17T03:55:24.133808Z",
     "iopub.status.busy": "2022-05-17T03:55:24.133577Z",
     "iopub.status.idle": "2022-05-17T03:55:24.139749Z",
     "shell.execute_reply": "2022-05-17T03:55:24.138813Z"
    },
    "papermill": {
     "duration": 0.02441,
     "end_time": "2022-05-17T03:55:24.141650",
     "exception": false,
     "start_time": "2022-05-17T03:55:24.117240",
     "status": "completed"
    },
    "tags": []
   },
   "outputs": [
    {
     "name": "stdout",
     "output_type": "stream",
     "text": [
      "/kaggle/working/FaceLandmark_PFLD_UltraLight\n"
     ]
    }
   ],
   "source": [
    "cd /kaggle/working/FaceLandmark_PFLD_UltraLight"
   ]
  },
  {
   "cell_type": "code",
   "execution_count": null,
   "id": "a9807877",
   "metadata": {
    "execution": {
     "iopub.execute_input": "2022-05-17T03:55:24.173760Z",
     "iopub.status.busy": "2022-05-17T03:55:24.173209Z",
     "iopub.status.idle": "2022-05-17T03:55:34.526841Z",
     "shell.execute_reply": "2022-05-17T03:55:34.526012Z"
    },
    "papermill": {
     "duration": 10.37266,
     "end_time": "2022-05-17T03:55:34.529716",
     "exception": false,
     "start_time": "2022-05-17T03:55:24.157056",
     "status": "completed"
    },
    "tags": []
   },
   "outputs": [],
   "source": [
    "!pip install -r requirement.txt"
   ]
  },
  {
   "cell_type": "code",
   "execution_count": 5,
   "id": "3bdca293",
   "metadata": {
    "execution": {
     "iopub.execute_input": "2022-05-17T03:55:34.585718Z",
     "iopub.status.busy": "2022-05-17T03:55:34.585451Z",
     "iopub.status.idle": "2022-05-17T03:55:57.592934Z",
     "shell.execute_reply": "2022-05-17T03:55:57.591984Z"
    },
    "papermill": {
     "duration": 23.03869,
     "end_time": "2022-05-17T03:55:57.596133",
     "exception": false,
     "start_time": "2022-05-17T03:55:34.557443",
     "status": "completed"
    },
    "tags": []
   },
   "outputs": [],
   "source": [
    "!cp -r /kaggle/input/wider-facial-landmarks-inthewild-wflw/WFLW ./data"
   ]
  },
  {
   "cell_type": "code",
   "execution_count": 6,
   "id": "5eb032e9",
   "metadata": {
    "execution": {
     "iopub.execute_input": "2022-05-17T03:55:57.653188Z",
     "iopub.status.busy": "2022-05-17T03:55:57.652919Z",
     "iopub.status.idle": "2022-05-17T03:55:57.658863Z",
     "shell.execute_reply": "2022-05-17T03:55:57.657731Z"
    },
    "papermill": {
     "duration": 0.036831,
     "end_time": "2022-05-17T03:55:57.660572",
     "exception": false,
     "start_time": "2022-05-17T03:55:57.623741",
     "status": "completed"
    },
    "tags": []
   },
   "outputs": [
    {
     "name": "stdout",
     "output_type": "stream",
     "text": [
      "/kaggle/working/FaceLandmark_PFLD_UltraLight/data\n"
     ]
    }
   ],
   "source": [
    "cd data"
   ]
  },
  {
   "cell_type": "code",
   "execution_count": 8,
   "id": "7eed0269",
   "metadata": {
    "execution": {
     "iopub.execute_input": "2022-05-17T04:31:18.498387Z",
     "iopub.status.busy": "2022-05-17T04:31:18.498155Z",
     "iopub.status.idle": "2022-05-17T04:31:18.504427Z",
     "shell.execute_reply": "2022-05-17T04:31:18.503220Z"
    },
    "papermill": {
     "duration": 0.060089,
     "end_time": "2022-05-17T04:31:18.506640",
     "exception": false,
     "start_time": "2022-05-17T04:31:18.446551",
     "status": "completed"
    },
    "tags": []
   },
   "outputs": [
    {
     "name": "stdout",
     "output_type": "stream",
     "text": [
      "/kaggle/working/FaceLandmark_PFLD_UltraLight\n"
     ]
    }
   ],
   "source": [
    "cd /kaggle/working/FaceLandmark_PFLD_UltraLight"
   ]
  },
  {
   "cell_type": "code",
   "execution_count": 12,
   "id": "110a06d5",
   "metadata": {
    "execution": {
     "iopub.execute_input": "2022-05-17T04:31:18.925606Z",
     "iopub.status.busy": "2022-05-17T04:31:18.925405Z",
     "iopub.status.idle": "2022-05-17T04:31:19.666037Z",
     "shell.execute_reply": "2022-05-17T04:31:19.665039Z"
    },
    "papermill": {
     "duration": 0.790985,
     "end_time": "2022-05-17T04:31:19.668066",
     "exception": false,
     "start_time": "2022-05-17T04:31:18.877081",
     "status": "completed"
    },
    "tags": []
   },
   "outputs": [
    {
     "name": "stdout",
     "output_type": "stream",
     "text": [
      "  File \"train.py\", line 131\r\n",
      "    logging.warning('=======>>>>>>> Scheduler Generated' + '\r\n",
      "                                                           ^\r\n",
      "SyntaxError: EOL while scanning string literal\r\n"
     ]
    }
   ],
   "source": [
    "!python train.py"
   ]
  },
  {
   "cell_type": "code",
   "execution_count": null,
   "id": "1e969eca",
   "metadata": {
    "papermill": {
     "duration": 0.054936,
     "end_time": "2022-05-17T04:31:19.771699",
     "exception": false,
     "start_time": "2022-05-17T04:31:19.716763",
     "status": "completed"
    },
    "tags": []
   },
   "outputs": [],
   "source": []
  }
 ],
 "metadata": {
  "kernelspec": {
   "display_name": "Python 3",
   "language": "python",
   "name": "python3"
  },
  "language_info": {
   "codemirror_mode": {
    "name": "ipython",
    "version": 3
   },
   "file_extension": ".py",
   "mimetype": "text/x-python",
   "name": "python",
   "nbconvert_exporter": "python",
   "pygments_lexer": "ipython3",
   "version": "3.7.12"
  },
  "papermill": {
   "default_parameters": {},
   "duration": 2167.111754,
   "end_time": "2022-05-17T04:31:20.349155",
   "environment_variables": {},
   "exception": null,
   "input_path": "__notebook__.ipynb",
   "output_path": "__notebook__.ipynb",
   "parameters": {},
   "start_time": "2022-05-17T03:55:13.237401",
   "version": "2.3.4"
  }
 },
 "nbformat": 4,
 "nbformat_minor": 5
}
